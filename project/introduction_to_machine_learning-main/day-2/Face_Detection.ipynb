{
 "cells": [
  {
   "cell_type": "code",
   "execution_count": 8,
   "metadata": {},
   "outputs": [],
   "source": [
    "import cv2\n",
    "import os\n",
    "\n",
    "# Load the cascade\n",
    "face_cascade = cv2.CascadeClassifier('haarcascade_frontalface_alt_tree.xml')\n",
    "\n",
    "\n",
    "dir_name= \"dataset/faces/\"\n",
    "for person_name in os.listdir(dir_name):\n",
    "    dir_path = dir_name+person_name+\"/\"\n",
    "    for image_name in os.listdir(dir_path):\n",
    "        # formulate the image path\n",
    "        image_path = dir_path+image_name\n",
    "        try:\n",
    "            # Read the input image\n",
    "            img = cv2.imread(image_path)\n",
    "            # Convert into grayscale\n",
    "            gray = cv2.cvtColor(img, cv2.COLOR_BGR2GRAY)\n",
    "            # Detect faces\n",
    "            faces = face_cascade.detectMultiScale(gray, 1.1, 4)\n",
    "            # Draw rectangle around the faces\n",
    "            for (x, y, w, h) in faces:\n",
    "                # cv2.rectangle(img, (x, y), (x+w, y+h), (255, 0, 0), 2)\n",
    "                faces = img[y:y + h, x:x + w]\n",
    "                face_path = dir_path+\"face_\"+image_name\n",
    "                # Save the image\n",
    "                cv2.imwrite(face_path, faces)\n",
    "        except:\n",
    "            pass\n",
    "        \n",
    "# # Display the output\n",
    "# cv2.imshow('img', img)\n",
    "# cv2.waitKey(0)"
   ]
  },
  {
   "cell_type": "code",
   "execution_count": null,
   "metadata": {},
   "outputs": [],
   "source": []
  }
 ],
 "metadata": {
  "kernelspec": {
   "display_name": "Python 3",
   "language": "python",
   "name": "python3"
  },
  "language_info": {
   "codemirror_mode": {
    "name": "ipython",
    "version": 3
   },
   "file_extension": ".py",
   "mimetype": "text/x-python",
   "name": "python",
   "nbconvert_exporter": "python",
   "pygments_lexer": "ipython3",
   "version": "3.8.3"
  }
 },
 "nbformat": 4,
 "nbformat_minor": 4
}
